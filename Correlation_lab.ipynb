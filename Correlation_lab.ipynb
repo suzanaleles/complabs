{
 "cells": [
  {
   "cell_type": "markdown",
   "id": "0347f9eb",
   "metadata": {},
   "source": [
    "# Correlation Lab"
   ]
  },
  {
   "cell_type": "markdown",
   "id": "f39dc075",
   "metadata": {},
   "source": [
    "## Dataset 1: biking"
   ]
  },
  {
   "cell_type": "markdown",
   "id": "b3584c7f",
   "metadata": {},
   "source": [
    "[This dataset](https://www.scribbr.com/statistics/linear-regression-in-r/) contains observations on the percentage of people biking to work each day and the percentage of people with heart disease in an imaginary sample of 498 towns."
   ]
  },
  {
   "cell_type": "markdown",
   "id": "28ac1755",
   "metadata": {},
   "source": [
    "Import the ggplot2 library for later use. **Do we need this?**"
   ]
  },
  {
   "cell_type": "code",
   "execution_count": 2,
   "id": "fee02187",
   "metadata": {},
   "outputs": [],
   "source": [
    "library(ggplot2)"
   ]
  },
  {
   "cell_type": "markdown",
   "id": "3698444c",
   "metadata": {},
   "source": [
    "### 1. Import the dataset"
   ]
  },
  {
   "cell_type": "code",
   "execution_count": 3,
   "id": "c2e151ab",
   "metadata": {},
   "outputs": [],
   "source": [
    "data_biking <- read.table(\"biking_heart_disease.txt\")"
   ]
  },
  {
   "cell_type": "markdown",
   "id": "a6e3a26f",
   "metadata": {},
   "source": [
    "### 2. Print the data"
   ]
  },
  {
   "cell_type": "code",
   "execution_count": 4,
   "id": "9631acd3",
   "metadata": {
    "scrolled": true
   },
   "outputs": [
    {
     "data": {
      "text/html": [
       "<table>\n",
       "<thead><tr><th scope=col>biking</th><th scope=col>heart.disease</th></tr></thead>\n",
       "<tbody>\n",
       "\t<tr><td>30.801246</td><td>11.769423</td></tr>\n",
       "\t<tr><td>65.129215</td><td> 2.854081</td></tr>\n",
       "\t<tr><td> 1.959665</td><td>17.177803</td></tr>\n",
       "\t<tr><td>44.800196</td><td> 6.816647</td></tr>\n",
       "\t<tr><td>69.428454</td><td> 4.062224</td></tr>\n",
       "\t<tr><td>54.403626</td><td> 9.550046</td></tr>\n",
       "\t<tr><td>49.056162</td><td> 7.624507</td></tr>\n",
       "\t<tr><td> 4.784604</td><td>15.854654</td></tr>\n",
       "\t<tr><td>65.730788</td><td> 3.067462</td></tr>\n",
       "\t<tr><td>35.257449</td><td>12.098484</td></tr>\n",
       "\t<tr><td>51.825567</td><td> 6.430248</td></tr>\n",
       "\t<tr><td>52.936197</td><td> 8.608272</td></tr>\n",
       "\t<tr><td>48.767478</td><td> 6.722524</td></tr>\n",
       "\t<tr><td>26.166801</td><td>10.597807</td></tr>\n",
       "\t<tr><td>10.553075</td><td>14.079478</td></tr>\n",
       "\t<tr><td>47.163716</td><td> 8.744845</td></tr>\n",
       "\t<tr><td>61.685256</td><td> 5.443342</td></tr>\n",
       "\t<tr><td>33.944394</td><td> 9.162306</td></tr>\n",
       "\t<tr><td>39.697624</td><td> 9.747186</td></tr>\n",
       "\t<tr><td>63.124698</td><td> 5.858278</td></tr>\n",
       "\t<tr><td>28.510129</td><td>11.724742</td></tr>\n",
       "\t<tr><td>18.525973</td><td>16.028188</td></tr>\n",
       "\t<tr><td>24.479470</td><td>15.000715</td></tr>\n",
       "\t<tr><td>18.358646</td><td>16.488206</td></tr>\n",
       "\t<tr><td>30.388184</td><td>12.356608</td></tr>\n",
       "\t<tr><td>52.985220</td><td> 9.088445</td></tr>\n",
       "\t<tr><td>60.509448</td><td> 3.217214</td></tr>\n",
       "\t<tr><td>45.247110</td><td> 6.593719</td></tr>\n",
       "\t<tr><td>48.597044</td><td> 6.659420</td></tr>\n",
       "\t<tr><td>25.139771</td><td>11.482937</td></tr>\n",
       "\t<tr><td>...</td><td>...</td></tr>\n",
       "\t<tr><td>11.658029</td><td>17.473940</td></tr>\n",
       "\t<tr><td> 6.295051</td><td>17.762115</td></tr>\n",
       "\t<tr><td>60.587355</td><td> 4.938059</td></tr>\n",
       "\t<tr><td>56.151543</td><td>10.161202</td></tr>\n",
       "\t<tr><td>74.221991</td><td> 4.631398</td></tr>\n",
       "\t<tr><td>25.443047</td><td>12.358035</td></tr>\n",
       "\t<tr><td>36.368318</td><td>11.282946</td></tr>\n",
       "\t<tr><td>25.887693</td><td>10.887413</td></tr>\n",
       "\t<tr><td>59.350253</td><td> 7.665346</td></tr>\n",
       "\t<tr><td>11.883447</td><td>12.788451</td></tr>\n",
       "\t<tr><td> 4.817058</td><td>18.503664</td></tr>\n",
       "\t<tr><td> 7.582143</td><td>18.081268</td></tr>\n",
       "\t<tr><td>54.181002</td><td> 5.351619</td></tr>\n",
       "\t<tr><td>33.262015</td><td>10.372329</td></tr>\n",
       "\t<tr><td>36.086220</td><td> 9.731545</td></tr>\n",
       "\t<tr><td>55.663943</td><td> 6.916259</td></tr>\n",
       "\t<tr><td>22.719661</td><td>10.893894</td></tr>\n",
       "\t<tr><td>41.178991</td><td> 7.831385</td></tr>\n",
       "\t<tr><td>22.021893</td><td>13.770639</td></tr>\n",
       "\t<tr><td>69.927963</td><td> 6.756015</td></tr>\n",
       "\t<tr><td>41.642072</td><td> 5.925680</td></tr>\n",
       "\t<tr><td>70.194411</td><td> 4.707009</td></tr>\n",
       "\t<tr><td>50.831908</td><td> 5.585493</td></tr>\n",
       "\t<tr><td>68.884065</td><td> 3.109338</td></tr>\n",
       "\t<tr><td>21.599230</td><td>12.373691</td></tr>\n",
       "\t<tr><td>47.660440</td><td>11.294392</td></tr>\n",
       "\t<tr><td>45.097203</td><td> 9.616762</td></tr>\n",
       "\t<tr><td> 8.279743</td><td>13.495168</td></tr>\n",
       "\t<tr><td>42.345863</td><td>10.115865</td></tr>\n",
       "\t<tr><td>30.774254</td><td>11.843556</td></tr>\n",
       "</tbody>\n",
       "</table>\n"
      ],
      "text/latex": [
       "\\begin{tabular}{r|ll}\n",
       " biking & heart.disease\\\\\n",
       "\\hline\n",
       "\t 30.801246 & 11.769423\\\\\n",
       "\t 65.129215 &  2.854081\\\\\n",
       "\t  1.959665 & 17.177803\\\\\n",
       "\t 44.800196 &  6.816647\\\\\n",
       "\t 69.428454 &  4.062224\\\\\n",
       "\t 54.403626 &  9.550046\\\\\n",
       "\t 49.056162 &  7.624507\\\\\n",
       "\t  4.784604 & 15.854654\\\\\n",
       "\t 65.730788 &  3.067462\\\\\n",
       "\t 35.257449 & 12.098484\\\\\n",
       "\t 51.825567 &  6.430248\\\\\n",
       "\t 52.936197 &  8.608272\\\\\n",
       "\t 48.767478 &  6.722524\\\\\n",
       "\t 26.166801 & 10.597807\\\\\n",
       "\t 10.553075 & 14.079478\\\\\n",
       "\t 47.163716 &  8.744845\\\\\n",
       "\t 61.685256 &  5.443342\\\\\n",
       "\t 33.944394 &  9.162306\\\\\n",
       "\t 39.697624 &  9.747186\\\\\n",
       "\t 63.124698 &  5.858278\\\\\n",
       "\t 28.510129 & 11.724742\\\\\n",
       "\t 18.525973 & 16.028188\\\\\n",
       "\t 24.479470 & 15.000715\\\\\n",
       "\t 18.358646 & 16.488206\\\\\n",
       "\t 30.388184 & 12.356608\\\\\n",
       "\t 52.985220 &  9.088445\\\\\n",
       "\t 60.509448 &  3.217214\\\\\n",
       "\t 45.247110 &  6.593719\\\\\n",
       "\t 48.597044 &  6.659420\\\\\n",
       "\t 25.139771 & 11.482937\\\\\n",
       "\t ... & ...\\\\\n",
       "\t 11.658029 & 17.473940\\\\\n",
       "\t  6.295051 & 17.762115\\\\\n",
       "\t 60.587355 &  4.938059\\\\\n",
       "\t 56.151543 & 10.161202\\\\\n",
       "\t 74.221991 &  4.631398\\\\\n",
       "\t 25.443047 & 12.358035\\\\\n",
       "\t 36.368318 & 11.282946\\\\\n",
       "\t 25.887693 & 10.887413\\\\\n",
       "\t 59.350253 &  7.665346\\\\\n",
       "\t 11.883447 & 12.788451\\\\\n",
       "\t  4.817058 & 18.503664\\\\\n",
       "\t  7.582143 & 18.081268\\\\\n",
       "\t 54.181002 &  5.351619\\\\\n",
       "\t 33.262015 & 10.372329\\\\\n",
       "\t 36.086220 &  9.731545\\\\\n",
       "\t 55.663943 &  6.916259\\\\\n",
       "\t 22.719661 & 10.893894\\\\\n",
       "\t 41.178991 &  7.831385\\\\\n",
       "\t 22.021893 & 13.770639\\\\\n",
       "\t 69.927963 &  6.756015\\\\\n",
       "\t 41.642072 &  5.925680\\\\\n",
       "\t 70.194411 &  4.707009\\\\\n",
       "\t 50.831908 &  5.585493\\\\\n",
       "\t 68.884065 &  3.109338\\\\\n",
       "\t 21.599230 & 12.373691\\\\\n",
       "\t 47.660440 & 11.294392\\\\\n",
       "\t 45.097203 &  9.616762\\\\\n",
       "\t  8.279743 & 13.495168\\\\\n",
       "\t 42.345863 & 10.115865\\\\\n",
       "\t 30.774254 & 11.843556\\\\\n",
       "\\end{tabular}\n"
      ],
      "text/markdown": [
       "\n",
       "| biking | heart.disease |\n",
       "|---|---|\n",
       "| 30.801246 | 11.769423 |\n",
       "| 65.129215 |  2.854081 |\n",
       "|  1.959665 | 17.177803 |\n",
       "| 44.800196 |  6.816647 |\n",
       "| 69.428454 |  4.062224 |\n",
       "| 54.403626 |  9.550046 |\n",
       "| 49.056162 |  7.624507 |\n",
       "|  4.784604 | 15.854654 |\n",
       "| 65.730788 |  3.067462 |\n",
       "| 35.257449 | 12.098484 |\n",
       "| 51.825567 |  6.430248 |\n",
       "| 52.936197 |  8.608272 |\n",
       "| 48.767478 |  6.722524 |\n",
       "| 26.166801 | 10.597807 |\n",
       "| 10.553075 | 14.079478 |\n",
       "| 47.163716 |  8.744845 |\n",
       "| 61.685256 |  5.443342 |\n",
       "| 33.944394 |  9.162306 |\n",
       "| 39.697624 |  9.747186 |\n",
       "| 63.124698 |  5.858278 |\n",
       "| 28.510129 | 11.724742 |\n",
       "| 18.525973 | 16.028188 |\n",
       "| 24.479470 | 15.000715 |\n",
       "| 18.358646 | 16.488206 |\n",
       "| 30.388184 | 12.356608 |\n",
       "| 52.985220 |  9.088445 |\n",
       "| 60.509448 |  3.217214 |\n",
       "| 45.247110 |  6.593719 |\n",
       "| 48.597044 |  6.659420 |\n",
       "| 25.139771 | 11.482937 |\n",
       "| ... | ... |\n",
       "| 11.658029 | 17.473940 |\n",
       "|  6.295051 | 17.762115 |\n",
       "| 60.587355 |  4.938059 |\n",
       "| 56.151543 | 10.161202 |\n",
       "| 74.221991 |  4.631398 |\n",
       "| 25.443047 | 12.358035 |\n",
       "| 36.368318 | 11.282946 |\n",
       "| 25.887693 | 10.887413 |\n",
       "| 59.350253 |  7.665346 |\n",
       "| 11.883447 | 12.788451 |\n",
       "|  4.817058 | 18.503664 |\n",
       "|  7.582143 | 18.081268 |\n",
       "| 54.181002 |  5.351619 |\n",
       "| 33.262015 | 10.372329 |\n",
       "| 36.086220 |  9.731545 |\n",
       "| 55.663943 |  6.916259 |\n",
       "| 22.719661 | 10.893894 |\n",
       "| 41.178991 |  7.831385 |\n",
       "| 22.021893 | 13.770639 |\n",
       "| 69.927963 |  6.756015 |\n",
       "| 41.642072 |  5.925680 |\n",
       "| 70.194411 |  4.707009 |\n",
       "| 50.831908 |  5.585493 |\n",
       "| 68.884065 |  3.109338 |\n",
       "| 21.599230 | 12.373691 |\n",
       "| 47.660440 | 11.294392 |\n",
       "| 45.097203 |  9.616762 |\n",
       "|  8.279743 | 13.495168 |\n",
       "| 42.345863 | 10.115865 |\n",
       "| 30.774254 | 11.843556 |\n",
       "\n"
      ],
      "text/plain": [
       "    biking    heart.disease\n",
       "1   30.801246 11.769423    \n",
       "2   65.129215  2.854081    \n",
       "3    1.959665 17.177803    \n",
       "4   44.800196  6.816647    \n",
       "5   69.428454  4.062224    \n",
       "6   54.403626  9.550046    \n",
       "7   49.056162  7.624507    \n",
       "8    4.784604 15.854654    \n",
       "9   65.730788  3.067462    \n",
       "10  35.257449 12.098484    \n",
       "11  51.825567  6.430248    \n",
       "12  52.936197  8.608272    \n",
       "13  48.767478  6.722524    \n",
       "14  26.166801 10.597807    \n",
       "15  10.553075 14.079478    \n",
       "16  47.163716  8.744845    \n",
       "17  61.685256  5.443342    \n",
       "18  33.944394  9.162306    \n",
       "19  39.697624  9.747186    \n",
       "20  63.124698  5.858278    \n",
       "21  28.510129 11.724742    \n",
       "22  18.525973 16.028188    \n",
       "23  24.479470 15.000715    \n",
       "24  18.358646 16.488206    \n",
       "25  30.388184 12.356608    \n",
       "26  52.985220  9.088445    \n",
       "27  60.509448  3.217214    \n",
       "28  45.247110  6.593719    \n",
       "29  48.597044  6.659420    \n",
       "30  25.139771 11.482937    \n",
       "... ...       ...          \n",
       "469 11.658029 17.473940    \n",
       "470  6.295051 17.762115    \n",
       "471 60.587355  4.938059    \n",
       "472 56.151543 10.161202    \n",
       "473 74.221991  4.631398    \n",
       "474 25.443047 12.358035    \n",
       "475 36.368318 11.282946    \n",
       "476 25.887693 10.887413    \n",
       "477 59.350253  7.665346    \n",
       "478 11.883447 12.788451    \n",
       "479  4.817058 18.503664    \n",
       "480  7.582143 18.081268    \n",
       "481 54.181002  5.351619    \n",
       "482 33.262015 10.372329    \n",
       "483 36.086220  9.731545    \n",
       "484 55.663943  6.916259    \n",
       "485 22.719661 10.893894    \n",
       "486 41.178991  7.831385    \n",
       "487 22.021893 13.770639    \n",
       "488 69.927963  6.756015    \n",
       "489 41.642072  5.925680    \n",
       "490 70.194411  4.707009    \n",
       "491 50.831908  5.585493    \n",
       "492 68.884065  3.109338    \n",
       "493 21.599230 12.373691    \n",
       "494 47.660440 11.294392    \n",
       "495 45.097203  9.616762    \n",
       "496  8.279743 13.495168    \n",
       "497 42.345863 10.115865    \n",
       "498 30.774254 11.843556    "
      ]
     },
     "metadata": {},
     "output_type": "display_data"
    }
   ],
   "source": [
    "data_biking"
   ]
  },
  {
   "cell_type": "markdown",
   "id": "8e17ab0e",
   "metadata": {},
   "source": [
    "### 3. Generate a summary of the data\n",
    "\n",
    "This includes the minimum, median, mean, and maximum values of the independent variable (biking) and the dependent variable (heart.disease)"
   ]
  },
  {
   "cell_type": "code",
   "execution_count": 38,
   "id": "cb716caa",
   "metadata": {
    "scrolled": true
   },
   "outputs": [
    {
     "data": {
      "text/plain": [
       "     biking       heart.disease    \n",
       " Min.   : 1.119   Min.   : 0.5519  \n",
       " 1st Qu.:20.205   1st Qu.: 6.5137  \n",
       " Median :35.824   Median :10.3853  \n",
       " Mean   :37.788   Mean   :10.1745  \n",
       " 3rd Qu.:57.853   3rd Qu.:13.7240  \n",
       " Max.   :74.907   Max.   :20.4535  "
      ]
     },
     "metadata": {},
     "output_type": "display_data"
    }
   ],
   "source": [
    "summary(data_biking)"
   ]
  },
  {
   "cell_type": "markdown",
   "id": "d1b34fcd",
   "metadata": {},
   "source": [
    "### 4. Check for linearity\n",
    "\n",
    "The relationship between the two variables, biking and heart.disease, must be at least visually linear to proceed to testing for a statistically significant relationship, or correlation. This can be achieved by plotting the two variables against each other."
   ]
  },
  {
   "cell_type": "code",
   "execution_count": 39,
   "id": "c33bbfa2",
   "metadata": {},
   "outputs": [
    {
     "data": {
      "image/png": "[encoded data removed]",
      "text/plain": [
       "plot without title"
      ]
     },
     "metadata": {},
     "output_type": "display_data"
    }
   ],
   "source": [
    "plot(heart.disease ~ biking, data = data_biking)"
   ]
  },
  {
   "cell_type": "markdown",
   "id": "98ab58ad",
   "metadata": {},
   "source": [
    "- In the command above, from left to right, the \"plot\" function tells R that you are about to plot a set of data.\n",
    "\n",
    "- Open parantheses contains all commands that direct the plot function.\n",
    "\n",
    "- heart.disease is the dataset that will be plotted on the y-axis.\n",
    "\n",
    "- The tilde tells \"plot\" that you are plotting the relationship between the two variables heart.disease and biking.\n",
    "\n",
    "- biking is the variable that will be plotted on the x-axis.\n",
    "\n",
    "- The \"comma\",\" means tells \"plot\" that another set of instructions is coming\n",
    "\n",
    "- The \"data\" is a function within \"plot\" that points \"plot\" to the right dataset that is loaded within this R session. That dataset is \"data_biking\"."
   ]
  },
  {
   "cell_type": "markdown",
   "id": "41d6d075",
   "metadata": {},
   "source": [
    "We can see that a negative relationship exists between heart disease and biking. In other words, as the frequency of biking increases, the frequency of heart disease decreases."
   ]
  },
  {
   "cell_type": "markdown",
   "id": "fd6bac6e",
   "metadata": {},
   "source": [
    "### 5. Perform a statistical test\n",
    "\n",
    "Now that you can see a linear relationship may exist between heart disease and biking, you can conduct a more formal analysis to evaluate the strength of the relationship. One common analysis to do this is a linear regression."
   ]
  },
  {
   "cell_type": "code",
   "execution_count": 40,
   "id": "c88819d5",
   "metadata": {},
   "outputs": [],
   "source": [
    "heart.biking.lm = lm(heart.disease ~ biking, data = data_biking)"
   ]
  },
  {
   "cell_type": "markdown",
   "id": "7043581f",
   "metadata": {},
   "source": [
    "- From left to right, \"heart.biking.lm\" is a name that you create to store the data generated on the right side of the \"=\" sign. \n",
    "\n",
    "- Similar to the \"plot\" function, \"lm\" is a function that tells R that you would like to perform a linear regression.\n",
    "\n",
    "- The tilde tells the \"lm\" function that you want to assess if the linear relationship between the instances of heart disease and biking.\n",
    "\n",
    "- The \",\" tells \"lm\" that more instructions are coming.\n",
    "\n",
    "- \"data\" tells \"lm\" to pull the heart.disease and biking data from the data_biking dataset"
   ]
  },
  {
   "cell_type": "markdown",
   "id": "af23042a",
   "metadata": {},
   "source": [
    "### 6. Check your statistical results\n",
    "\n",
    "Now you can get the summary data from the linear regression analysis using the summary function below on the data you just generated stored in \"heart.biking.lm\""
   ]
  },
  {
   "cell_type": "code",
   "execution_count": 41,
   "id": "10df8c61",
   "metadata": {},
   "outputs": [
    {
     "data": {
      "text/plain": [
       "\n",
       "Call:\n",
       "lm(formula = heart.disease ~ biking, data = data_biking)\n",
       "\n",
       "Residuals:\n",
       "   Min     1Q Median     3Q    Max \n",
       "-4.028 -1.206 -0.004  1.151  3.643 \n",
       "\n",
       "Coefficients:\n",
       "             Estimate Std. Error t value Pr(>|t|)    \n",
       "(Intercept) 17.697884   0.146780  120.57   <2e-16 ***\n",
       "biking      -0.199091   0.003378  -58.94   <2e-16 ***\n",
       "---\n",
       "Signif. codes:  0 '***' 0.001 '**' 0.01 '*' 0.05 '.' 0.1 ' ' 1\n",
       "\n",
       "Residual standard error: 1.618 on 496 degrees of freedom\n",
       "Multiple R-squared:  0.8751,\tAdjusted R-squared:  0.8748 \n",
       "F-statistic:  3474 on 1 and 496 DF,  p-value: < 2.2e-16\n"
      ]
     },
     "metadata": {},
     "output_type": "display_data"
    }
   ],
   "source": [
    "summary(heart.biking.lm)"
   ]
  },
  {
   "cell_type": "markdown",
   "id": "e280cfa5",
   "metadata": {},
   "source": [
    "For now, just take a look at the \"p-value\", which represents the probability that no relationship exists between heart disease and biking. If the number is below 0.05, then we say that there is a very low chance that there is no relationship between these variables. In other words, we believe there is a very high chance that these two variables are related. This means they are correlated to each other. There is a chance that increased biking (i.e. exercise) helps to cause lower instances of heart disease but this dataset is not sufficient to unequivocably prove it. This is why you here medical professionals say things like, \"increased exercise is LINKED to lower heart disease\", implying that there is a significant relationship, or correlation, between the variables. But this phrase does not go on to say it is causative."
   ]
  },
  {
   "cell_type": "markdown",
   "id": "2ee86a6f",
   "metadata": {},
   "source": [
    "### 7. Clear variables from previous exercise"
   ]
  },
  {
   "cell_type": "code",
   "execution_count": 42,
   "id": "5b7501c6",
   "metadata": {},
   "outputs": [],
   "source": [
    "rm(list=ls())"
   ]
  },
  {
   "cell_type": "markdown",
   "id": "87cda070",
   "metadata": {},
   "source": [
    "## Dataset 2: plant\n",
    "\n",
    "[Class exercise for plant height and temperature data](http://environmentalcomputing.net/linear-regression/)\n",
    "\n",
    "Class copies steps from above but for plant_height_temp.txt. This is followed by discussion."
   ]
  },
  {
   "cell_type": "markdown",
   "id": "9519faa5",
   "metadata": {},
   "source": [
    "## Dataset 3: trace metals\n",
    "\n",
    "Class exercise for analyzing trace metals in water quality data.\n",
    "\n",
    "To import the data, do the following:"
   ]
  },
  {
   "cell_type": "code",
   "execution_count": 43,
   "id": "516899ab",
   "metadata": {},
   "outputs": [],
   "source": [
    "data_trace_metals <- read.csv(\"TRI.sample.corr.data.csv\", header = T)"
   ]
  },
  {
   "cell_type": "markdown",
   "id": "f6033f60",
   "metadata": {},
   "source": [
    "Class copies steps from above but for data_trace_metals. This is followed by discussion."
   ]
  },
  {
   "cell_type": "code",
   "execution_count": null,
   "id": "36beee72",
   "metadata": {},
   "outputs": [],
   "source": []
  }
 ],
 "metadata": {
  "kernelspec": {
   "display_name": "R",
   "language": "R",
   "name": "ir"
  },
  "language_info": {
   "codemirror_mode": "r",
   "file_extension": ".r",
   "mimetype": "text/x-r-source",
   "name": "R",
   "pygments_lexer": "r",
   "version": "3.6.1"
  }
 },
 "nbformat": 4,
 "nbformat_minor": 5
}
